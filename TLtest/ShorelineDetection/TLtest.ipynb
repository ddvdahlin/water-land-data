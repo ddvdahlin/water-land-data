{
 "cells": [
  {
   "cell_type": "code",
   "execution_count": 80,
   "id": "1c434377-c30a-48ca-a4cc-3a910bf795ef",
   "metadata": {},
   "outputs": [],
   "source": [
    "import numpy as np # linear algebra\n",
    "import random\n",
    "import pandas as pd # data processing, CSV file I/O (e.g. pd.read_csv)\n",
    "import os\n",
    "import cv2\n",
    "import matplotlib.pyplot as plt\n",
    "from keras.preprocessing.image import ImageDataGenerator, array_to_img, img_to_array, load_img\n",
    "from tensorflow.keras.applications import vgg16\n",
    "from tensorflow.keras.models import Model,load_model\n",
    "import keras\n",
    "from tensorflow.keras.layers import Input, Conv2D, Conv2DTranspose,AveragePooling2D, MaxPooling2D,UpSampling2D,LeakyReLU, concatenate, Dropout,BatchNormalization,Activation\n",
    "from tensorflow.keras.callbacks import EarlyStopping,ModelCheckpoint\n",
    "import pandas as pd\n",
    "from tensorflow.keras.optimizers import Adam\n",
    "#import tensorflow.keras import optimizers\n",
    "from sklearn.model_selection import train_test_split\n",
    "from numpy.random import seed\n",
    "seed(123)\n",
    "import tensorflow as tf\n",
    "# import tensorflow.compat.v1 as tf\n",
    "# tf.disable_v2_behavior()\n",
    "#from tensorflow.python.keras.optimizers import Adam\n",
    "tf.random.set_seed(123)\n",
    "from tensorflow.python.keras import backend as K\n",
    "# from keras import backend as K\n",
    "from tensorflow.keras.models import Sequential\n",
    "session_conf =  tf.compat.v1.ConfigProto(intra_op_parallelism_threads=1, inter_op_parallelism_threads=1)\n",
    "#session_conf =  tf.ConfigProto(intra_op_parallelism_threads=1, inter_op_parallelism_threads=1)\n",
    "sess = tf.compat.v1.Session(graph=tf.compat.v1.get_default_graph(), config=session_conf)\n",
    "#sess = tf.Session(graph=tf.default_graph(), config=session_conf)\n",
    "K.set_session(sess)\n",
    "from skimage.transform import resize\n",
    "from sklearn.metrics import jaccard_score\n",
    "from keras import metrics\n",
    "import csv"
   ]
  },
  {
   "cell_type": "code",
   "execution_count": 81,
   "id": "84e38bc8-8475-45ed-92e8-dd61187d3ede",
   "metadata": {},
   "outputs": [],
   "source": [
    "#print(os.listdir())"
   ]
  },
  {
   "cell_type": "code",
   "execution_count": null,
   "id": "a7fdbe8b-4ff9-4c51-b108-5ad0f8d6048d",
   "metadata": {},
   "outputs": [],
   "source": []
  },
  {
   "cell_type": "code",
   "execution_count": 82,
   "id": "c2f24ca1-10d0-4290-81e7-3960fbda44e5",
   "metadata": {},
   "outputs": [],
   "source": [
    "# print(os.getcwd())\n",
    "# os.chdir(r'data/train/train_mask')\n",
    "# print(os.getcwd())"
   ]
  },
  {
   "cell_type": "code",
   "execution_count": 83,
   "id": "108e1d9e-12ac-488b-84d6-4629a9000982",
   "metadata": {},
   "outputs": [],
   "source": [
    "#pic = cv2.imread('cod_100.png')"
   ]
  },
  {
   "cell_type": "code",
   "execution_count": 84,
   "id": "d996d13f-7387-4458-8816-3ed92d115011",
   "metadata": {},
   "outputs": [],
   "source": [
    "#plt.imshow(pic)"
   ]
  },
  {
   "cell_type": "code",
   "execution_count": 85,
   "id": "56c2f8c5-76f1-45db-ba95-0dba144c3951",
   "metadata": {},
   "outputs": [],
   "source": [
    "#print(os.getcwd())\n"
   ]
  },
  {
   "cell_type": "code",
   "execution_count": 86,
   "id": "586b0842-3e9a-472e-a135-c103cfc3e973",
   "metadata": {},
   "outputs": [],
   "source": [
    "path= (r'C:/Users/k v/Documents/REU/ShorelineDetection/data/')\n",
    "model_path = (r'C:/Users/k v/Documents/REU/ShorelineDetection/model/')\n",
    "result_path = (r'C:/Users/k v/Documents/REU/ShorelineDetection/results/')"
   ]
  },
  {
   "cell_type": "code",
   "execution_count": 87,
   "id": "ba7cb72e-c9f4-4fa4-b95a-cd692812ab3f",
   "metadata": {},
   "outputs": [],
   "source": [
    "#print(os.listdir(path+'train/train_img'))"
   ]
  },
  {
   "cell_type": "code",
   "execution_count": 88,
   "id": "368eb5c4-7bc0-4c9c-93c5-d92ba4b85ae8",
   "metadata": {},
   "outputs": [],
   "source": [
    "#print(os.listdir(path+'train/train_mask'))"
   ]
  },
  {
   "cell_type": "code",
   "execution_count": 89,
   "id": "ea26a71f-316f-4d97-ae77-062b69f23170",
   "metadata": {},
   "outputs": [],
   "source": [
    "# plt.figure(figsize=(30,30))\n",
    "# plt.subplot(5,5,1)\n",
    "# img = cv2.imread(path+\"train/train_img/cod_100.jpg\")  \n",
    "# img = cv2.cvtColor(img, cv2.COLOR_BGR2RGB)\n",
    "# img1 = cv2.resize(img, (500, 500))\n",
    "# img2 = np.array(img1)\n",
    "# plt.imshow(img1, cmap='BrBG')\n",
    "# plt.subplot(5,5,1+1)\n",
    "# img = cv2.imread(path+\"train/train_mask/cod_100.png\")  \n",
    "# img = cv2.cvtColor(img, cv2.COLOR_BGR2RGB)\n",
    "# plt.imshow(img)\n",
    "# # plt.subplot(5,5,1+2)\n",
    "# # img = cv.imread(InputPath+\"clean/clean0001.png\")  \n",
    "# # img = cv.cvtColor(img, cv.COLOR_BGR2RGB)\n",
    "# # plt.imshow(img)\n"
   ]
  },
  {
   "cell_type": "code",
   "execution_count": 90,
   "id": "d6998e7b-ac43-43fd-a740-816e7c682cda",
   "metadata": {},
   "outputs": [],
   "source": [
    "# c = sorted(os.listdir(path+'train/train_img'))\n",
    "# d = sorted(os.listdir(path+'train/train_mask'))\n",
    "# print(len(d))\n",
    "# print(len(c))"
   ]
  },
  {
   "cell_type": "code",
   "execution_count": 91,
   "id": "5e8090d9-0873-4dc8-ab9c-bf90d98ddb3d",
   "metadata": {},
   "outputs": [],
   "source": [
    "def get_label_info(csv_path):\n",
    "    filename, file_extension = os.path.splitext(csv_path)\n",
    "    if not file_extension == \".csv\":\n",
    "        return ValueError(\"File is not a CSV!\")\n",
    "\n",
    "    class_names = []\n",
    "    label_values = []\n",
    "    with open(csv_path, 'r') as csvfile:\n",
    "        file_reader = csv.reader(csvfile, delimiter=',')\n",
    "        header = next(file_reader)\n",
    "        for row in file_reader:\n",
    "            class_names.append(row[0])\n",
    "            label_values.append([int(row[1]), int(row[2]), int(row[3])])\n",
    "        # print(class_dict)\n",
    "    return class_names, label_values"
   ]
  },
  {
   "cell_type": "code",
   "execution_count": 92,
   "id": "88ab06e7-681c-4e61-903e-a4782d203150",
   "metadata": {},
   "outputs": [],
   "source": [
    "class_name_lists, label_values = get_label_info('C:/Users/k v/Documents/REU/ShorelineDetection/data/class_dict.csv')"
   ]
  },
  {
   "cell_type": "code",
   "execution_count": 93,
   "id": "463fb912-f27b-47d8-a02f-8e99f7b95e26",
   "metadata": {},
   "outputs": [
    {
     "data": {
      "text/plain": [
       "2"
      ]
     },
     "execution_count": 93,
     "metadata": {},
     "output_type": "execute_result"
    }
   ],
   "source": [
    "num_classes = len(label_values)\n",
    "num_classes"
   ]
  },
  {
   "cell_type": "code",
   "execution_count": 94,
   "id": "d0c3268e-4410-433a-9862-3a0503da1849",
   "metadata": {},
   "outputs": [],
   "source": [
    "def one_hot_it(label, label_values):\n",
    "    semantic_map = []\n",
    "    for colour in label_values:\n",
    "        # colour_map = np.full((label.shape[0], label.shape[1], label.shape[2]), colour, dtype=int)\n",
    "        equality = np.equal(label, colour)\n",
    "        class_map = np.all(equality, axis = -1)\n",
    "        semantic_map.append(class_map)\n",
    "    semantic_map = np.stack(semantic_map, axis=-1)\n",
    "    # print(\"Time 2 = \", time.time() - st)\n",
    "\n",
    "    return semantic_map"
   ]
  },
  {
   "cell_type": "code",
   "execution_count": 99,
   "id": "3affa3ba-cd6b-41cf-8e6a-a0c4dac4f9a5",
   "metadata": {},
   "outputs": [],
   "source": [
    "def ExtractData(path):\n",
    "    SourceImg = sorted(os.listdir(path+'train_img'))\n",
    "    TargetImg = sorted(os.listdir(path+'train_mask'))\n",
    "   \n",
    "    X_=[]\n",
    "    y_=[]\n",
    "    count=0\n",
    "    for i in range(len(SourceImg)):\n",
    "        if count<2165:\n",
    "            count=count+1\n",
    "            img_1 = cv2.imread(path+'train_img/'+SourceImg[i])\n",
    "            img_1 = cv2.cvtColor(img_1, cv2.COLOR_BGR2RGB)\n",
    "            img_1 = cv2.resize(img_1,(500,500))\n",
    "            img_1 = img_1/255.0\n",
    "            X_.append(img_1)\n",
    "            img_2 = cv2.imread(path+'train_mask/'+TargetImg[i])\n",
    "            img_2 = cv2.cvtColor(img_2, cv2.COLOR_BGR2RGB)\n",
    "            img_2 = cv2.resize(img_2,(500,500))\n",
    "            img_2 = img_2/255.0\n",
    "            y_.append(img_2)\n",
    "    X_ = np.array(X_)\n",
    "    y_ = np.array(y_)\n",
    "    \n",
    "    return X_,y_"
   ]
  },
  {
   "cell_type": "code",
   "execution_count": 100,
   "id": "074dece5-d9f4-432e-b0f2-2405d8fe903a",
   "metadata": {},
   "outputs": [],
   "source": [
    "X_,y_ = ExtractData(path)"
   ]
  },
  {
   "cell_type": "code",
   "execution_count": 101,
   "id": "73924cc2-740c-43a8-8119-054f0f6ffd97",
   "metadata": {},
   "outputs": [],
   "source": [
    "#y_.shape\n"
   ]
  },
  {
   "cell_type": "code",
   "execution_count": 102,
   "id": "1f4f4683-e386-4077-bffc-94cc6b2f950e",
   "metadata": {},
   "outputs": [],
   "source": [
    "#X_.shape"
   ]
  },
  {
   "cell_type": "code",
   "execution_count": 103,
   "id": "dcbc6cee-9b09-4acc-a5e3-17f6e8d8533b",
   "metadata": {},
   "outputs": [],
   "source": [
    "def AugmentData(X_, y_):\n",
    "    X_2=[]\n",
    "    y_2=[]\n",
    "    count=0\n",
    "    for i in range(len(X_)):\n",
    "        if count<2165:\n",
    "            count=count+1\n",
    "\n",
    "            # Augment training images\n",
    "            #img_x_1 = tf.placeholder(dtype = tf.float32, shape = X_[i])\n",
    "            temp_x = []\n",
    "            temp_x_1 = X_[i]\n",
    "            temp_x_2 = tf.image.flip_up_down(temp_x_1)\n",
    "            temp_x_3 = tf.image.flip_left_right(temp_x_1)\n",
    "            temp_x_4 = tf.image.flip_up_down(temp_x_3)\n",
    "            temp_x_5 = tf.image.rot90(temp_x_1)\n",
    "            temp_x_6 = tf.image.rot90(temp_x_2)\n",
    "            temp_x_7 = tf.image.rot90(temp_x_3)\n",
    "            temp_x_8 = tf.image.rot90(temp_x_4)\n",
    "            X_2.append(np.array(temp_x_1))\n",
    "            X_2.append(np.array(temp_x_2))\n",
    "            X_2.append(np.array(temp_x_3))\n",
    "            X_2.append(np.array(temp_x_4))\n",
    "            X_2.append(np.array(temp_x_5))\n",
    "            X_2.append(np.array(temp_x_6))\n",
    "            X_2.append(np.array(temp_x_7))\n",
    "            X_2.append(np.array(temp_x_8))\n",
    "\n",
    "            # Augment training masks\n",
    "            # The augmentations here are identicial to their corresponding image counterparts.\n",
    "            #img_y_1 = tf.placeholder(dtype = tf.float32, shape = y_[i])\n",
    "            temp_y = []\n",
    "            temp_y_1 = y_[i]\n",
    "            temp_y_2 = tf.image.flip_up_down(temp_y_1)\n",
    "            temp_y_3 = tf.image.flip_left_right(temp_y_1)\n",
    "            temp_y_4 = tf.image.flip_up_down(temp_y_3)\n",
    "            temp_y_5 = tf.image.rot90(temp_y_1)\n",
    "            temp_y_6 = tf.image.rot90(temp_y_2)\n",
    "            temp_y_7 = tf.image.rot90(temp_y_3)\n",
    "            temp_y_8 = tf.image.rot90(temp_y_4)\n",
    "            y_2.append(np.array(temp_y_1))\n",
    "            y_2.append(np.array(temp_y_2))\n",
    "            y_2.append(np.array(temp_y_3))\n",
    "            y_2.append(np.array(temp_y_4))\n",
    "            y_2.append(np.array(temp_y_5))\n",
    "            y_2.append(np.array(temp_y_6))\n",
    "            y_2.append(np.array(temp_y_7))\n",
    "            y_2.append(np.array(temp_y_8))\n",
    "    X_2 = np.array(X_2)\n",
    "    y_2 = np.array(y_2)\n",
    "    \n",
    "    return X_2,y_2"
   ]
  },
  {
   "cell_type": "code",
   "execution_count": 104,
   "id": "0897fd7d-b98b-46c1-9ff8-bfa2245dc903",
   "metadata": {},
   "outputs": [],
   "source": [
    "X_,y_ = AugmentData(X_, y_)"
   ]
  },
  {
   "cell_type": "code",
   "execution_count": 105,
   "id": "9492b1f6-be5f-413b-b149-ec8f92af2eaf",
   "metadata": {},
   "outputs": [
    {
     "data": {
      "text/plain": [
       "1224"
      ]
     },
     "execution_count": 105,
     "metadata": {},
     "output_type": "execute_result"
    }
   ],
   "source": [
    "len(X_)"
   ]
  },
  {
   "cell_type": "code",
   "execution_count": 106,
   "id": "7d7272bd-a11b-40e5-952d-3579197637e4",
   "metadata": {},
   "outputs": [
    {
     "data": {
      "text/plain": [
       "1224"
      ]
     },
     "execution_count": 106,
     "metadata": {},
     "output_type": "execute_result"
    }
   ],
   "source": [
    "len(y_)"
   ]
  },
  {
   "cell_type": "code",
   "execution_count": 107,
   "id": "c1936cfb-87b7-4301-83fd-b263e17e92aa",
   "metadata": {},
   "outputs": [],
   "source": [
    "# Split train and valid\n",
    "X_train, X_test, y_train, y_test = train_test_split(X_, y_, test_size=0.1, random_state=42)"
   ]
  },
  {
   "cell_type": "code",
   "execution_count": 108,
   "id": "94215d53-d797-4bd5-942c-2745338933cf",
   "metadata": {},
   "outputs": [],
   "source": [
    "#len(X_train)"
   ]
  },
  {
   "cell_type": "code",
   "execution_count": 109,
   "id": "4457dca8-01d4-4bb5-b0a4-d6c7a96518fb",
   "metadata": {},
   "outputs": [],
   "source": [
    "#len(y_train)"
   ]
  },
  {
   "cell_type": "code",
   "execution_count": 110,
   "id": "e1152ea6-9699-45f2-8b7d-483c53cfb9b1",
   "metadata": {},
   "outputs": [],
   "source": [
    "#len(X_test)"
   ]
  },
  {
   "cell_type": "code",
   "execution_count": 111,
   "id": "7a4be8bc-2c52-4bec-86d0-ee08fa7a0eee",
   "metadata": {},
   "outputs": [],
   "source": [
    "#len(y_test)"
   ]
  },
  {
   "cell_type": "code",
   "execution_count": 112,
   "id": "68d3948f-7858-4e28-a407-c3863c5ca613",
   "metadata": {},
   "outputs": [
    {
     "name": "stdout",
     "output_type": "stream",
     "text": [
      "Model loaded.\n"
     ]
    }
   ],
   "source": [
    "input_shape = (500, 500, 3)\n",
    "VGG16_weight = \"../vgg16_weights_tf_dim_ordering_tf_kernels_notop.h5\"\n",
    "VGG16_MODEL=tf.keras.applications.VGG16(input_shape=input_shape,\n",
    "                                               include_top=False,\n",
    "                                               weights='imagenet')\n",
    "VGG16 = vgg16.VGG16(include_top=False, weights='imagenet', input_shape=input_shape)\n",
    "\n",
    "print('Model loaded.')"
   ]
  },
  {
   "cell_type": "code",
   "execution_count": 113,
   "id": "68b5a66d-e4af-4a3b-ba97-4f55d4e22f47",
   "metadata": {},
   "outputs": [
    {
     "data": {
      "text/plain": [
       "<tf.Tensor 'block5_pool_3/Identity:0' shape=(None, 15, 15, 512) dtype=float32>"
      ]
     },
     "execution_count": 113,
     "metadata": {},
     "output_type": "execute_result"
    }
   ],
   "source": [
    "output_ = VGG16.output\n",
    "output_"
   ]
  },
  {
   "cell_type": "code",
   "execution_count": 114,
   "id": "1225d266-c3c6-4ba4-81e9-60808b625750",
   "metadata": {},
   "outputs": [],
   "source": [
    "set_trainable = False\n",
    "for layer in VGG16.layers:\n",
    "    if layer.name in ['block1_conv1']:\n",
    "        set_trainable = True\n",
    "    if layer.name in ['block1_pool','block2_pool','block3_pool','block4_pool','block5_pool']:\n",
    "        layer.trainable = False"
   ]
  },
  {
   "cell_type": "code",
   "execution_count": 115,
   "id": "092e2d0c-9ff0-49b7-ab33-59e28462be97",
   "metadata": {},
   "outputs": [
    {
     "data": {
      "text/html": [
       "<div>\n",
       "<style scoped>\n",
       "    .dataframe tbody tr th:only-of-type {\n",
       "        vertical-align: middle;\n",
       "    }\n",
       "\n",
       "    .dataframe tbody tr th {\n",
       "        vertical-align: top;\n",
       "    }\n",
       "\n",
       "    .dataframe thead th {\n",
       "        text-align: right;\n",
       "    }\n",
       "</style>\n",
       "<table border=\"1\" class=\"dataframe\">\n",
       "  <thead>\n",
       "    <tr style=\"text-align: right;\">\n",
       "      <th></th>\n",
       "      <th>Layer Type</th>\n",
       "      <th>Layer Name</th>\n",
       "      <th>Layer Trainable</th>\n",
       "    </tr>\n",
       "  </thead>\n",
       "  <tbody>\n",
       "    <tr>\n",
       "      <th>0</th>\n",
       "      <td>&lt;tensorflow.python.keras.engine.input_layer.In...</td>\n",
       "      <td>input_3</td>\n",
       "      <td>True</td>\n",
       "    </tr>\n",
       "    <tr>\n",
       "      <th>1</th>\n",
       "      <td>&lt;tensorflow.python.keras.layers.convolutional....</td>\n",
       "      <td>block1_conv1</td>\n",
       "      <td>True</td>\n",
       "    </tr>\n",
       "    <tr>\n",
       "      <th>2</th>\n",
       "      <td>&lt;tensorflow.python.keras.layers.convolutional....</td>\n",
       "      <td>block1_conv2</td>\n",
       "      <td>True</td>\n",
       "    </tr>\n",
       "    <tr>\n",
       "      <th>3</th>\n",
       "      <td>&lt;tensorflow.python.keras.layers.pooling.MaxPoo...</td>\n",
       "      <td>block1_pool</td>\n",
       "      <td>False</td>\n",
       "    </tr>\n",
       "    <tr>\n",
       "      <th>4</th>\n",
       "      <td>&lt;tensorflow.python.keras.layers.convolutional....</td>\n",
       "      <td>block2_conv1</td>\n",
       "      <td>True</td>\n",
       "    </tr>\n",
       "    <tr>\n",
       "      <th>5</th>\n",
       "      <td>&lt;tensorflow.python.keras.layers.convolutional....</td>\n",
       "      <td>block2_conv2</td>\n",
       "      <td>True</td>\n",
       "    </tr>\n",
       "    <tr>\n",
       "      <th>6</th>\n",
       "      <td>&lt;tensorflow.python.keras.layers.pooling.MaxPoo...</td>\n",
       "      <td>block2_pool</td>\n",
       "      <td>False</td>\n",
       "    </tr>\n",
       "    <tr>\n",
       "      <th>7</th>\n",
       "      <td>&lt;tensorflow.python.keras.layers.convolutional....</td>\n",
       "      <td>block3_conv1</td>\n",
       "      <td>True</td>\n",
       "    </tr>\n",
       "    <tr>\n",
       "      <th>8</th>\n",
       "      <td>&lt;tensorflow.python.keras.layers.convolutional....</td>\n",
       "      <td>block3_conv2</td>\n",
       "      <td>True</td>\n",
       "    </tr>\n",
       "    <tr>\n",
       "      <th>9</th>\n",
       "      <td>&lt;tensorflow.python.keras.layers.convolutional....</td>\n",
       "      <td>block3_conv3</td>\n",
       "      <td>True</td>\n",
       "    </tr>\n",
       "    <tr>\n",
       "      <th>10</th>\n",
       "      <td>&lt;tensorflow.python.keras.layers.pooling.MaxPoo...</td>\n",
       "      <td>block3_pool</td>\n",
       "      <td>False</td>\n",
       "    </tr>\n",
       "    <tr>\n",
       "      <th>11</th>\n",
       "      <td>&lt;tensorflow.python.keras.layers.convolutional....</td>\n",
       "      <td>block4_conv1</td>\n",
       "      <td>True</td>\n",
       "    </tr>\n",
       "    <tr>\n",
       "      <th>12</th>\n",
       "      <td>&lt;tensorflow.python.keras.layers.convolutional....</td>\n",
       "      <td>block4_conv2</td>\n",
       "      <td>True</td>\n",
       "    </tr>\n",
       "    <tr>\n",
       "      <th>13</th>\n",
       "      <td>&lt;tensorflow.python.keras.layers.convolutional....</td>\n",
       "      <td>block4_conv3</td>\n",
       "      <td>True</td>\n",
       "    </tr>\n",
       "    <tr>\n",
       "      <th>14</th>\n",
       "      <td>&lt;tensorflow.python.keras.layers.pooling.MaxPoo...</td>\n",
       "      <td>block4_pool</td>\n",
       "      <td>False</td>\n",
       "    </tr>\n",
       "    <tr>\n",
       "      <th>15</th>\n",
       "      <td>&lt;tensorflow.python.keras.layers.convolutional....</td>\n",
       "      <td>block5_conv1</td>\n",
       "      <td>True</td>\n",
       "    </tr>\n",
       "    <tr>\n",
       "      <th>16</th>\n",
       "      <td>&lt;tensorflow.python.keras.layers.convolutional....</td>\n",
       "      <td>block5_conv2</td>\n",
       "      <td>True</td>\n",
       "    </tr>\n",
       "    <tr>\n",
       "      <th>17</th>\n",
       "      <td>&lt;tensorflow.python.keras.layers.convolutional....</td>\n",
       "      <td>block5_conv3</td>\n",
       "      <td>True</td>\n",
       "    </tr>\n",
       "    <tr>\n",
       "      <th>18</th>\n",
       "      <td>&lt;tensorflow.python.keras.layers.pooling.MaxPoo...</td>\n",
       "      <td>block5_pool</td>\n",
       "      <td>False</td>\n",
       "    </tr>\n",
       "  </tbody>\n",
       "</table>\n",
       "</div>"
      ],
      "text/plain": [
       "                                           Layer Type    Layer Name  \\\n",
       "0   <tensorflow.python.keras.engine.input_layer.In...       input_3   \n",
       "1   <tensorflow.python.keras.layers.convolutional....  block1_conv1   \n",
       "2   <tensorflow.python.keras.layers.convolutional....  block1_conv2   \n",
       "3   <tensorflow.python.keras.layers.pooling.MaxPoo...   block1_pool   \n",
       "4   <tensorflow.python.keras.layers.convolutional....  block2_conv1   \n",
       "5   <tensorflow.python.keras.layers.convolutional....  block2_conv2   \n",
       "6   <tensorflow.python.keras.layers.pooling.MaxPoo...   block2_pool   \n",
       "7   <tensorflow.python.keras.layers.convolutional....  block3_conv1   \n",
       "8   <tensorflow.python.keras.layers.convolutional....  block3_conv2   \n",
       "9   <tensorflow.python.keras.layers.convolutional....  block3_conv3   \n",
       "10  <tensorflow.python.keras.layers.pooling.MaxPoo...   block3_pool   \n",
       "11  <tensorflow.python.keras.layers.convolutional....  block4_conv1   \n",
       "12  <tensorflow.python.keras.layers.convolutional....  block4_conv2   \n",
       "13  <tensorflow.python.keras.layers.convolutional....  block4_conv3   \n",
       "14  <tensorflow.python.keras.layers.pooling.MaxPoo...   block4_pool   \n",
       "15  <tensorflow.python.keras.layers.convolutional....  block5_conv1   \n",
       "16  <tensorflow.python.keras.layers.convolutional....  block5_conv2   \n",
       "17  <tensorflow.python.keras.layers.convolutional....  block5_conv3   \n",
       "18  <tensorflow.python.keras.layers.pooling.MaxPoo...   block5_pool   \n",
       "\n",
       "    Layer Trainable  \n",
       "0              True  \n",
       "1              True  \n",
       "2              True  \n",
       "3             False  \n",
       "4              True  \n",
       "5              True  \n",
       "6             False  \n",
       "7              True  \n",
       "8              True  \n",
       "9              True  \n",
       "10            False  \n",
       "11             True  \n",
       "12             True  \n",
       "13             True  \n",
       "14            False  \n",
       "15             True  \n",
       "16             True  \n",
       "17             True  \n",
       "18            False  "
      ]
     },
     "execution_count": 115,
     "metadata": {},
     "output_type": "execute_result"
    }
   ],
   "source": [
    "vgg_model = Model(VGG16.input, output_)\n",
    "layers = [(layer, layer.name, layer.trainable) for layer in vgg_model.layers]\n",
    "pd.DataFrame(layers, columns=['Layer Type', 'Layer Name', 'Layer Trainable'])"
   ]
  },
  {
   "cell_type": "code",
   "execution_count": 116,
   "id": "3736f38d-1629-4cb6-89e7-695c7f788aa8",
   "metadata": {},
   "outputs": [
    {
     "name": "stdout",
     "output_type": "stream",
     "text": [
      "Model: \"model_1\"\n",
      "_________________________________________________________________\n",
      "Layer (type)                 Output Shape              Param #   \n",
      "=================================================================\n",
      "input_3 (InputLayer)         [(None, 500, 500, 3)]     0         \n",
      "_________________________________________________________________\n",
      "block1_conv1 (Conv2D)        (None, 500, 500, 64)      1792      \n",
      "_________________________________________________________________\n",
      "block1_conv2 (Conv2D)        (None, 500, 500, 64)      36928     \n",
      "_________________________________________________________________\n",
      "block1_pool (MaxPooling2D)   (None, 250, 250, 64)      0         \n",
      "_________________________________________________________________\n",
      "block2_conv1 (Conv2D)        (None, 250, 250, 128)     73856     \n",
      "_________________________________________________________________\n",
      "block2_conv2 (Conv2D)        (None, 250, 250, 128)     147584    \n",
      "_________________________________________________________________\n",
      "block2_pool (MaxPooling2D)   (None, 125, 125, 128)     0         \n",
      "_________________________________________________________________\n",
      "block3_conv1 (Conv2D)        (None, 125, 125, 256)     295168    \n",
      "_________________________________________________________________\n",
      "block3_conv2 (Conv2D)        (None, 125, 125, 256)     590080    \n",
      "_________________________________________________________________\n",
      "block3_conv3 (Conv2D)        (None, 125, 125, 256)     590080    \n",
      "_________________________________________________________________\n",
      "block3_pool (MaxPooling2D)   (None, 62, 62, 256)       0         \n",
      "_________________________________________________________________\n",
      "block4_conv1 (Conv2D)        (None, 62, 62, 512)       1180160   \n",
      "_________________________________________________________________\n",
      "block4_conv2 (Conv2D)        (None, 62, 62, 512)       2359808   \n",
      "_________________________________________________________________\n",
      "block4_conv3 (Conv2D)        (None, 62, 62, 512)       2359808   \n",
      "_________________________________________________________________\n",
      "block4_pool (MaxPooling2D)   (None, 31, 31, 512)       0         \n",
      "_________________________________________________________________\n",
      "block5_conv1 (Conv2D)        (None, 31, 31, 512)       2359808   \n",
      "_________________________________________________________________\n",
      "block5_conv2 (Conv2D)        (None, 31, 31, 512)       2359808   \n",
      "_________________________________________________________________\n",
      "block5_conv3 (Conv2D)        (None, 31, 31, 512)       2359808   \n",
      "_________________________________________________________________\n",
      "block5_pool (MaxPooling2D)   (None, 15, 15, 512)       0         \n",
      "=================================================================\n",
      "Total params: 14,714,688\n",
      "Trainable params: 14,714,688\n",
      "Non-trainable params: 0\n",
      "_________________________________________________________________\n"
     ]
    }
   ],
   "source": [
    "vgg_model.summary()"
   ]
  },
  {
   "cell_type": "code",
   "execution_count": 117,
   "id": "9c4b9d75-4ffc-4ee1-8ebf-dfe9e22ff2cd",
   "metadata": {},
   "outputs": [],
   "source": [
    "K.clear_session()\n",
    "def ModelEnhancer():\n",
    "    input_shape = (500, 500, 3)\n",
    "#     VGG16_weight = \"../input/keras-pretrained-models/vgg16_weights_tf_dim_ordering_tf_kernels_notop.h5\"\n",
    "#     VGG16 = vgg16.VGG16(include_top=False, weights=VGG16_weight, input_shape=input_shape)\n",
    "    VGG16=tf.keras.applications.VGG16( input_shape=input_shape,\n",
    "                                               include_top=False,\n",
    "                                               weights='imagenet')\n",
    "    last_layer = VGG16.output\n",
    "    \n",
    "    set_trainable = False\n",
    "    for layer in VGG16.layers:\n",
    "        if layer.name in ['block1_conv1']:\n",
    "            set_trainable = True\n",
    "        if layer.name in ['block1_pool','block2_pool','block3_pool','block4_pool','block5_pool']:\n",
    "            layer.trainable = False\n",
    "   \n",
    "    model_ = Conv2DTranspose(256,(3,3),strides=(2, 2))(last_layer)\n",
    "    model_ = LeakyReLU(0.1)(model_)\n",
    "    model_ = BatchNormalization()(model_)    \n",
    "    \n",
    "    concat_1 = concatenate([model_,VGG16.get_layer(\"block5_conv3\").output])\n",
    "    \n",
    "    model_ = Conv2D(512,(3,3),strides=(1, 1),padding='same')(concat_1)\n",
    "    model_ = LeakyReLU(0.1)(model_)\n",
    "    model_ = BatchNormalization()(model_)\n",
    "    \n",
    "    model_ = Conv2DTranspose(512,(3,3),strides=(2, 2),padding='same')(model_)\n",
    "    model_ = LeakyReLU(0.1)(model_)\n",
    "    model_ = BatchNormalization()(model_) \n",
    "    \n",
    "    concat_2 = concatenate([model_,VGG16.get_layer(\"block4_conv3\").output])\n",
    "    \n",
    "    model_ = Conv2D(512,(3,3),strides=(1, 1),padding='same')(concat_2)\n",
    "    model_ = LeakyReLU(0.1)(model_)\n",
    "    model_ = BatchNormalization()(model_)\n",
    "    \n",
    "    model_ = Conv2DTranspose(512,(3,3),strides=(2, 2))(model_)\n",
    "    model_ = LeakyReLU(0.1)(model_)\n",
    "    model_ = BatchNormalization()(model_) \n",
    "    \n",
    "    concat_3 = concatenate([model_,VGG16.get_layer(\"block3_conv3\").output])\n",
    "    \n",
    "    model_ = Conv2D(256,(3,3),strides=(1, 1),padding='same')(concat_3)\n",
    "    model_ = LeakyReLU(0.1)(model_)\n",
    "    model_ = BatchNormalization()(model_)\n",
    "    \n",
    "    model_ = Conv2DTranspose(256,(3,3),strides=(2, 2),padding='same')(model_)\n",
    "    model_ = LeakyReLU(0.1)(model_)\n",
    "    model_ = BatchNormalization()(model_) \n",
    "    \n",
    "    concat_4 = concatenate([model_,VGG16.get_layer(\"block2_conv2\").output])\n",
    "    \n",
    "    model_ = Conv2D(128,(3,3),strides=(1, 1),padding='same')(concat_4)\n",
    "    model_ = LeakyReLU(0.1)(model_)\n",
    "    model_ = BatchNormalization()(model_)\n",
    "    \n",
    "    model_ = Conv2DTranspose(128,(3,3),strides=(2, 2),padding='same')(model_)\n",
    "    model_ = LeakyReLU(0.1)(model_)\n",
    "    model_ = BatchNormalization()(model_) \n",
    "    \n",
    "    concat_5 = concatenate([model_,VGG16.get_layer(\"block1_conv2\").output])\n",
    "    \n",
    "    model_ = Conv2D(64,(3,3),strides=(1, 1),padding='same')(concat_5)\n",
    "    model_ = LeakyReLU(0.1)(model_)\n",
    "    model_ = BatchNormalization()(model_)\n",
    "    \n",
    "    model_ = Conv2D(32,(3,3),strides=(1, 1),padding='same')(model_)\n",
    "    model_ = LeakyReLU(0.1)(model_)\n",
    "    model_ = BatchNormalization()(model_)\n",
    "    \n",
    "    model_ = Conv2D(3,(3,3),strides=(1, 1),padding='same')(model_)\n",
    "    model_ = LeakyReLU(0.1)(model_)\n",
    "    model_ = BatchNormalization()(model_)\n",
    "    \n",
    "    model_ = Model(VGG16.input,model_)\n",
    "    \n",
    "    return model_"
   ]
  },
  {
   "cell_type": "code",
   "execution_count": 118,
   "id": "f091c9e2-aa4c-4b98-a401-e4c73d5dbd68",
   "metadata": {},
   "outputs": [
    {
     "name": "stdout",
     "output_type": "stream",
     "text": [
      "Model: \"model\"\n",
      "__________________________________________________________________________________________________\n",
      "Layer (type)                    Output Shape         Param #     Connected to                     \n",
      "==================================================================================================\n",
      "input_1 (InputLayer)            [(None, 500, 500, 3) 0                                            \n",
      "__________________________________________________________________________________________________\n",
      "block1_conv1 (Conv2D)           (None, 500, 500, 64) 1792        input_1[0][0]                    \n",
      "__________________________________________________________________________________________________\n",
      "block1_conv2 (Conv2D)           (None, 500, 500, 64) 36928       block1_conv1[0][0]               \n",
      "__________________________________________________________________________________________________\n",
      "block1_pool (MaxPooling2D)      (None, 250, 250, 64) 0           block1_conv2[0][0]               \n",
      "__________________________________________________________________________________________________\n",
      "block2_conv1 (Conv2D)           (None, 250, 250, 128 73856       block1_pool[0][0]                \n",
      "__________________________________________________________________________________________________\n",
      "block2_conv2 (Conv2D)           (None, 250, 250, 128 147584      block2_conv1[0][0]               \n",
      "__________________________________________________________________________________________________\n",
      "block2_pool (MaxPooling2D)      (None, 125, 125, 128 0           block2_conv2[0][0]               \n",
      "__________________________________________________________________________________________________\n",
      "block3_conv1 (Conv2D)           (None, 125, 125, 256 295168      block2_pool[0][0]                \n",
      "__________________________________________________________________________________________________\n",
      "block3_conv2 (Conv2D)           (None, 125, 125, 256 590080      block3_conv1[0][0]               \n",
      "__________________________________________________________________________________________________\n",
      "block3_conv3 (Conv2D)           (None, 125, 125, 256 590080      block3_conv2[0][0]               \n",
      "__________________________________________________________________________________________________\n",
      "block3_pool (MaxPooling2D)      (None, 62, 62, 256)  0           block3_conv3[0][0]               \n",
      "__________________________________________________________________________________________________\n",
      "block4_conv1 (Conv2D)           (None, 62, 62, 512)  1180160     block3_pool[0][0]                \n",
      "__________________________________________________________________________________________________\n",
      "block4_conv2 (Conv2D)           (None, 62, 62, 512)  2359808     block4_conv1[0][0]               \n",
      "__________________________________________________________________________________________________\n",
      "block4_conv3 (Conv2D)           (None, 62, 62, 512)  2359808     block4_conv2[0][0]               \n",
      "__________________________________________________________________________________________________\n",
      "block4_pool (MaxPooling2D)      (None, 31, 31, 512)  0           block4_conv3[0][0]               \n",
      "__________________________________________________________________________________________________\n",
      "block5_conv1 (Conv2D)           (None, 31, 31, 512)  2359808     block4_pool[0][0]                \n",
      "__________________________________________________________________________________________________\n",
      "block5_conv2 (Conv2D)           (None, 31, 31, 512)  2359808     block5_conv1[0][0]               \n",
      "__________________________________________________________________________________________________\n",
      "block5_conv3 (Conv2D)           (None, 31, 31, 512)  2359808     block5_conv2[0][0]               \n",
      "__________________________________________________________________________________________________\n",
      "block5_pool (MaxPooling2D)      (None, 15, 15, 512)  0           block5_conv3[0][0]               \n",
      "__________________________________________________________________________________________________\n",
      "conv2d_transpose (Conv2DTranspo (None, 31, 31, 256)  1179904     block5_pool[0][0]                \n",
      "__________________________________________________________________________________________________\n",
      "leaky_re_lu (LeakyReLU)         (None, 31, 31, 256)  0           conv2d_transpose[0][0]           \n",
      "__________________________________________________________________________________________________\n",
      "batch_normalization (BatchNorma (None, 31, 31, 256)  1024        leaky_re_lu[0][0]                \n",
      "__________________________________________________________________________________________________\n",
      "concatenate (Concatenate)       (None, 31, 31, 768)  0           batch_normalization[0][0]        \n",
      "                                                                 block5_conv3[0][0]               \n",
      "__________________________________________________________________________________________________\n",
      "conv2d (Conv2D)                 (None, 31, 31, 512)  3539456     concatenate[0][0]                \n",
      "__________________________________________________________________________________________________\n",
      "leaky_re_lu_1 (LeakyReLU)       (None, 31, 31, 512)  0           conv2d[0][0]                     \n",
      "__________________________________________________________________________________________________\n",
      "batch_normalization_1 (BatchNor (None, 31, 31, 512)  2048        leaky_re_lu_1[0][0]              \n",
      "__________________________________________________________________________________________________\n",
      "conv2d_transpose_1 (Conv2DTrans (None, 62, 62, 512)  2359808     batch_normalization_1[0][0]      \n",
      "__________________________________________________________________________________________________\n",
      "leaky_re_lu_2 (LeakyReLU)       (None, 62, 62, 512)  0           conv2d_transpose_1[0][0]         \n",
      "__________________________________________________________________________________________________\n",
      "batch_normalization_2 (BatchNor (None, 62, 62, 512)  2048        leaky_re_lu_2[0][0]              \n",
      "__________________________________________________________________________________________________\n",
      "concatenate_1 (Concatenate)     (None, 62, 62, 1024) 0           batch_normalization_2[0][0]      \n",
      "                                                                 block4_conv3[0][0]               \n",
      "__________________________________________________________________________________________________\n",
      "conv2d_1 (Conv2D)               (None, 62, 62, 512)  4719104     concatenate_1[0][0]              \n",
      "__________________________________________________________________________________________________\n",
      "leaky_re_lu_3 (LeakyReLU)       (None, 62, 62, 512)  0           conv2d_1[0][0]                   \n",
      "__________________________________________________________________________________________________\n",
      "batch_normalization_3 (BatchNor (None, 62, 62, 512)  2048        leaky_re_lu_3[0][0]              \n",
      "__________________________________________________________________________________________________\n",
      "conv2d_transpose_2 (Conv2DTrans (None, 125, 125, 512 2359808     batch_normalization_3[0][0]      \n",
      "__________________________________________________________________________________________________\n",
      "leaky_re_lu_4 (LeakyReLU)       (None, 125, 125, 512 0           conv2d_transpose_2[0][0]         \n",
      "__________________________________________________________________________________________________\n",
      "batch_normalization_4 (BatchNor (None, 125, 125, 512 2048        leaky_re_lu_4[0][0]              \n",
      "__________________________________________________________________________________________________\n",
      "concatenate_2 (Concatenate)     (None, 125, 125, 768 0           batch_normalization_4[0][0]      \n",
      "                                                                 block3_conv3[0][0]               \n",
      "__________________________________________________________________________________________________\n",
      "conv2d_2 (Conv2D)               (None, 125, 125, 256 1769728     concatenate_2[0][0]              \n",
      "__________________________________________________________________________________________________\n",
      "leaky_re_lu_5 (LeakyReLU)       (None, 125, 125, 256 0           conv2d_2[0][0]                   \n",
      "__________________________________________________________________________________________________\n",
      "batch_normalization_5 (BatchNor (None, 125, 125, 256 1024        leaky_re_lu_5[0][0]              \n",
      "__________________________________________________________________________________________________\n",
      "conv2d_transpose_3 (Conv2DTrans (None, 250, 250, 256 590080      batch_normalization_5[0][0]      \n",
      "__________________________________________________________________________________________________\n",
      "leaky_re_lu_6 (LeakyReLU)       (None, 250, 250, 256 0           conv2d_transpose_3[0][0]         \n",
      "__________________________________________________________________________________________________\n",
      "batch_normalization_6 (BatchNor (None, 250, 250, 256 1024        leaky_re_lu_6[0][0]              \n",
      "__________________________________________________________________________________________________\n",
      "concatenate_3 (Concatenate)     (None, 250, 250, 384 0           batch_normalization_6[0][0]      \n",
      "                                                                 block2_conv2[0][0]               \n",
      "__________________________________________________________________________________________________\n",
      "conv2d_3 (Conv2D)               (None, 250, 250, 128 442496      concatenate_3[0][0]              \n",
      "__________________________________________________________________________________________________\n",
      "leaky_re_lu_7 (LeakyReLU)       (None, 250, 250, 128 0           conv2d_3[0][0]                   \n",
      "__________________________________________________________________________________________________\n",
      "batch_normalization_7 (BatchNor (None, 250, 250, 128 512         leaky_re_lu_7[0][0]              \n",
      "__________________________________________________________________________________________________\n",
      "conv2d_transpose_4 (Conv2DTrans (None, 500, 500, 128 147584      batch_normalization_7[0][0]      \n",
      "__________________________________________________________________________________________________\n",
      "leaky_re_lu_8 (LeakyReLU)       (None, 500, 500, 128 0           conv2d_transpose_4[0][0]         \n",
      "__________________________________________________________________________________________________\n",
      "batch_normalization_8 (BatchNor (None, 500, 500, 128 512         leaky_re_lu_8[0][0]              \n",
      "__________________________________________________________________________________________________\n",
      "concatenate_4 (Concatenate)     (None, 500, 500, 192 0           batch_normalization_8[0][0]      \n",
      "                                                                 block1_conv2[0][0]               \n",
      "__________________________________________________________________________________________________\n",
      "conv2d_4 (Conv2D)               (None, 500, 500, 64) 110656      concatenate_4[0][0]              \n",
      "__________________________________________________________________________________________________\n",
      "leaky_re_lu_9 (LeakyReLU)       (None, 500, 500, 64) 0           conv2d_4[0][0]                   \n",
      "__________________________________________________________________________________________________\n",
      "batch_normalization_9 (BatchNor (None, 500, 500, 64) 256         leaky_re_lu_9[0][0]              \n",
      "__________________________________________________________________________________________________\n",
      "conv2d_5 (Conv2D)               (None, 500, 500, 32) 18464       batch_normalization_9[0][0]      \n",
      "__________________________________________________________________________________________________\n",
      "leaky_re_lu_10 (LeakyReLU)      (None, 500, 500, 32) 0           conv2d_5[0][0]                   \n",
      "__________________________________________________________________________________________________\n",
      "batch_normalization_10 (BatchNo (None, 500, 500, 32) 128         leaky_re_lu_10[0][0]             \n",
      "__________________________________________________________________________________________________\n",
      "conv2d_6 (Conv2D)               (None, 500, 500, 3)  867         batch_normalization_10[0][0]     \n",
      "__________________________________________________________________________________________________\n",
      "leaky_re_lu_11 (LeakyReLU)      (None, 500, 500, 3)  0           conv2d_6[0][0]                   \n",
      "__________________________________________________________________________________________________\n",
      "batch_normalization_11 (BatchNo (None, 500, 500, 3)  12          leaky_re_lu_11[0][0]             \n",
      "==================================================================================================\n",
      "Total params: 31,965,327\n",
      "Trainable params: 31,958,985\n",
      "Non-trainable params: 6,342\n",
      "__________________________________________________________________________________________________\n"
     ]
    }
   ],
   "source": [
    "Model_ = ModelEnhancer()\n",
    "Model_.summary()"
   ]
  },
  {
   "cell_type": "code",
   "execution_count": 119,
   "id": "afd1c4d6-d1ef-4920-8104-e3269f477efa",
   "metadata": {},
   "outputs": [],
   "source": [
    "# from keras.utils.vis_utils import plot_model\n",
    "# plot_model(Model_,to_file=path+\"model_.png\",show_shapes=True, show_layer_names=True)\n",
    "# from IPython.display import Image\n",
    "# Image(retina=True, filename='model_.png')\n"
   ]
  },
  {
   "cell_type": "code",
   "execution_count": 120,
   "id": "17a88945-cf5e-4a92-8020-3aba88e78df9",
   "metadata": {},
   "outputs": [],
   "source": [
    "Model_.compile(optimizer = Adam(lr = 1e-4), loss = 'binary_crossentropy', metrics = ['accuracy'])\n",
    "#Adam(lr = 1e-4)"
   ]
  },
  {
   "cell_type": "code",
   "execution_count": 121,
   "id": "4aa75be4-446c-4e84-a100-a771a5cdf70b",
   "metadata": {},
   "outputs": [],
   "source": [
    "checkpointer = ModelCheckpoint(model_path+'model_TL_UNET.h5', verbose=1, mode='auto', monitor='loss',save_best_only=True)"
   ]
  },
  {
   "cell_type": "code",
   "execution_count": 122,
   "id": "8111ad74-f3a6-4566-9a4a-a2109a9bfd5d",
   "metadata": {},
   "outputs": [
    {
     "name": "stdout",
     "output_type": "stream",
     "text": [
      "WARNING:tensorflow:sample_weight modes were coerced from\n",
      "  ...\n",
      "    to  \n",
      "  ['...']\n",
      "Train for 2 steps, validate on 123 samples\n",
      "Epoch 1/5\n",
      "1/2 [==============>...............] - ETA: 4s - loss: 2.9814 - accuracy: 0.5630\n",
      "Epoch 00001: loss improved from inf to 3.09869, saving model to C:/Users/k v/Documents/REU/ShorelineDetection/model/model_TL_UNET.h5\n",
      "2/2 [==============================] - 14s 7s/step - loss: 3.0987 - accuracy: 0.5516 - val_loss: 9.5868 - val_accuracy: 0.1731\n",
      "Epoch 2/5\n",
      "1/2 [==============>...............] - ETA: 0s - loss: 2.9571 - accuracy: 0.5546\n",
      "Epoch 00002: loss improved from 3.09869 to 2.88775, saving model to C:/Users/k v/Documents/REU/ShorelineDetection/model/model_TL_UNET.h5\n",
      "2/2 [==============================] - 10s 5s/step - loss: 2.8877 - accuracy: 0.5620 - val_loss: 9.5729 - val_accuracy: 0.1750\n",
      "Epoch 3/5\n",
      "1/2 [==============>...............] - ETA: 0s - loss: 3.0308 - accuracy: 0.5579\n",
      "Epoch 00003: loss did not improve from 2.88775\n",
      "2/2 [==============================] - 9s 5s/step - loss: 3.0108 - accuracy: 0.5571 - val_loss: 9.5513 - val_accuracy: 0.1757\n",
      "Epoch 4/5\n",
      "1/2 [==============>...............] - ETA: 0s - loss: 2.4801 - accuracy: 0.5896\n",
      "Epoch 00004: loss improved from 2.88775 to 2.65489, saving model to C:/Users/k v/Documents/REU/ShorelineDetection/model/model_TL_UNET.h5\n",
      "2/2 [==============================] - 10s 5s/step - loss: 2.6549 - accuracy: 0.5780 - val_loss: 9.5219 - val_accuracy: 0.1762\n",
      "Epoch 5/5\n",
      "1/2 [==============>...............] - ETA: 0s - loss: 3.3870 - accuracy: 0.5355\n",
      "Epoch 00005: loss did not improve from 2.65489\n",
      "2/2 [==============================] - 9s 5s/step - loss: 3.1143 - accuracy: 0.5508 - val_loss: 9.4767 - val_accuracy: 0.1768\n"
     ]
    },
    {
     "data": {
      "text/plain": [
       "<tensorflow.python.keras.callbacks.History at 0x1d9f4768108>"
      ]
     },
     "execution_count": 122,
     "metadata": {},
     "output_type": "execute_result"
    }
   ],
   "source": [
    "def GenerateInputs(X,y):\n",
    "    for i in range(len(X)):\n",
    "        X_input = X[i].reshape(1,500,500,3)\n",
    "        y_input = y[i].reshape(1,500,500,3)\n",
    "        yield (X_input,y_input)\n",
    "Model_.fit(GenerateInputs(X_train,y_train), epochs=5, validation_data=(X_test,y_test), verbose=1, callbacks=[checkpointer], steps_per_epoch=2,\n",
    "                     shuffle=True)"
   ]
  },
  {
   "cell_type": "code",
   "execution_count": 123,
   "id": "7cbdf4ff-e919-47ea-9e3d-7928785f7d31",
   "metadata": {},
   "outputs": [],
   "source": [
    "TransferLearningModel = load_model(model_path+'model_TL_UNET.h5')"
   ]
  },
  {
   "cell_type": "code",
   "execution_count": 124,
   "id": "dc140f24-dbf3-41d4-956a-9f242ee917fe",
   "metadata": {},
   "outputs": [
    {
     "data": {
      "text/plain": [
       "['loss', 'accuracy']"
      ]
     },
     "execution_count": 124,
     "metadata": {},
     "output_type": "execute_result"
    }
   ],
   "source": [
    "TransferLearningModel.metrics_names"
   ]
  },
  {
   "cell_type": "code",
   "execution_count": 125,
   "id": "3c0be177-1381-4a6f-998d-cf869ae4d092",
   "metadata": {},
   "outputs": [
    {
     "data": {
      "text/plain": [
       "[<matplotlib.lines.Line2D at 0x1d762ca9dc8>]"
      ]
     },
     "execution_count": 125,
     "metadata": {},
     "output_type": "execute_result"
    },
    {
     "data": {
      "image/png": "[encoded data removed]",
      "text/plain": [
       "<Figure size 432x288 with 1 Axes>"
      ]
     },
     "metadata": {
      "needs_background": "light"
     },
     "output_type": "display_data"
    }
   ],
   "source": [
    "results.history['accuracy']\n",
    "plt.plot(results.history['accuracy'])"
   ]
  },
  {
   "cell_type": "code",
   "execution_count": null,
   "id": "e3905e6c-a96f-4425-bc13-b51d5b5cfdcf",
   "metadata": {},
   "outputs": [],
   "source": [
    "#TransferLearningModel.evaluate(X_test, y_test)"
   ]
  },
  {
   "cell_type": "code",
   "execution_count": null,
   "id": "71517971-6cae-4d83-80f9-88c2dc40d6ee",
   "metadata": {},
   "outputs": [],
   "source": [
    "X_test= []\n",
    "for i in X_test:\n",
    "    img_x = cv2.cvtColor(i, cv2.COLOR_BGR2RGB)\n",
    "    img_x = cv2.resize(i,(500,500), 1)\n",
    "    img_x = img_x.reshape(1,500,500,3)\n",
    "    X_test.append(img_x)"
   ]
  },
  {
   "cell_type": "code",
   "execution_count": 52,
   "id": "dbd56969-75ff-43e4-ac6e-028e738be43a",
   "metadata": {},
   "outputs": [],
   "source": [
    "from sklearn.metrics import classification_report"
   ]
  },
  {
   "cell_type": "code",
   "execution_count": 58,
   "id": "c54401a2-f79b-4a9a-a350-6ed0d579a55e",
   "metadata": {},
   "outputs": [],
   "source": [
    "#prediction = TransferLearningModel.evaluate(X_test)"
   ]
  },
  {
   "cell_type": "code",
   "execution_count": 127,
   "id": "7e3fe3a4-227a-44ca-91bd-8f08278d8a89",
   "metadata": {},
   "outputs": [],
   "source": [
    "img_x = cv2.imread(path + \"valid_img/bob_0.jpg\")\n",
    "img_x = cv2.cvtColor(img_x, cv2.COLOR_BGR2RGB)\n",
    "img_x = cv2.resize(img_x,(500,500), 1)\n",
    "img_x = img_x.reshape(1,500,500,3)"
   ]
  },
  {
   "cell_type": "code",
   "execution_count": 128,
   "id": "ef14d899-d8b4-4b82-978f-7ef48478602b",
   "metadata": {},
   "outputs": [],
   "source": [
    "prediction = TransferLearningModel.predict(img_x)"
   ]
  },
  {
   "cell_type": "code",
   "execution_count": 134,
   "id": "2751abf4-cd0f-409a-b593-cdd18020a771",
   "metadata": {},
   "outputs": [
    {
     "name": "stderr",
     "output_type": "stream",
     "text": [
      "Clipping input data to the valid range for imshow with RGB data ([0..1] for floats or [0..255] for integers).\n"
     ]
    },
    {
     "data": {
      "text/plain": [
       "<matplotlib.image.AxesImage at 0x1d764862948>"
      ]
     },
     "execution_count": 134,
     "metadata": {},
     "output_type": "execute_result"
    },
    {
     "data": {
      "image/png": "[encoded data removed]",
      "text/plain": [
       "<Figure size 432x288 with 1 Axes>"
      ]
     },
     "metadata": {
      "needs_background": "light"
     },
     "output_type": "display_data"
    }
   ],
   "source": [
    "pred = prediction.reshape(500,500, 3)\n",
    "pred = cv2.cvtColor(pred, cv2.COLOR_BGR2RGB)\n",
    "pred_ = cv2.resize(pred, (500,500), 1)\n",
    "plt.imshow(pred_, cmap='seismic', interpolation='bilinear')"
   ]
  },
  {
   "cell_type": "code",
   "execution_count": 133,
   "id": "903c37fe-1af7-4ca2-bd2e-0237b413f5a7",
   "metadata": {},
   "outputs": [
    {
     "name": "stderr",
     "output_type": "stream",
     "text": [
      "Clipping input data to the valid range for imshow with RGB data ([0..1] for floats or [0..255] for integers).\n"
     ]
    },
    {
     "data": {
      "text/plain": [
       "<matplotlib.image.AxesImage at 0x1d7647f0b88>"
      ]
     },
     "execution_count": 133,
     "metadata": {},
     "output_type": "execute_result"
    },
    {
     "data": {
      "image/png": "[encoded data removed]",
      "text/plain": [
       "<Figure size 432x288 with 1 Axes>"
      ]
     },
     "metadata": {
      "needs_background": "light"
     },
     "output_type": "display_data"
    }
   ],
   "source": [
    "img = cv2.imread(path+\"valid_mask/bob_0.png\")  \n",
    "img = cv2.cvtColor(img, cv2.COLOR_BGR2RGB)\n",
    "img = img*255.0\n",
    "img = cv2.resize(img,(500,500), 1)\n",
    "plt.imshow(img, cmap='gray', vmin=0, vmax=255)"
   ]
  },
  {
   "cell_type": "code",
   "execution_count": 72,
   "id": "919d7416-2775-447c-a52c-2520753dc37b",
   "metadata": {},
   "outputs": [
    {
     "data": {
      "text/plain": [
       "(1, 500, 500, 3)"
      ]
     },
     "execution_count": 72,
     "metadata": {},
     "output_type": "execute_result"
    }
   ],
   "source": [
    "img_x.shape\n"
   ]
  },
  {
   "cell_type": "code",
   "execution_count": 75,
   "id": "b16bf114-485c-4ae9-8210-da9f0b30e478",
   "metadata": {},
   "outputs": [
    {
     "data": {
      "text/plain": [
       "(500, 500, 3)"
      ]
     },
     "execution_count": 75,
     "metadata": {},
     "output_type": "execute_result"
    }
   ],
   "source": [
    "img.shape"
   ]
  },
  {
   "cell_type": "code",
   "execution_count": 76,
   "id": "ebc36141-4e0e-44b7-9aa5-7245179c455f",
   "metadata": {},
   "outputs": [],
   "source": [
    "def compute_mean_iou(pred, label):\n",
    "\n",
    "    unique_labels = np.unique(label)\n",
    "    num_unique_labels = len(unique_labels);\n",
    "\n",
    "    I = np.zeros(num_unique_labels)\n",
    "    U = np.zeros(num_unique_labels)\n",
    "\n",
    "    for index, val in enumerate(unique_labels):\n",
    "        pred_i = pred == val\n",
    "        label_i = label == val\n",
    "\n",
    "        I[index] = float(np.sum(np.logical_and(label_i, pred_i)))\n",
    "        U[index] = float(np.sum(np.logical_or(label_i, pred_i)))\n",
    "\n",
    "\n",
    "    mean_iou = np.mean(I / U)\n",
    "    return mean_iou"
   ]
  },
  {
   "cell_type": "code",
   "execution_count": 79,
   "id": "cd1aa812-54c5-45d5-a18f-9c31d9f30962",
   "metadata": {},
   "outputs": [
    {
     "data": {
      "text/plain": [
       "7.911548889525013e-05"
      ]
     },
     "execution_count": 79,
     "metadata": {},
     "output_type": "execute_result"
    }
   ],
   "source": [
    "compute_mean_iou(img_x, img)"
   ]
  },
  {
   "cell_type": "code",
   "execution_count": null,
   "id": "dc3872aa-71ce-4003-b488-499ea7378493",
   "metadata": {},
   "outputs": [],
   "source": [
    "plt.figure(figsize=(30,30))\n",
    "plt.subplot(5,5,1)\n",
    "image_0 = cv2.imread(path+\"valid/valid_img/bob_0.jpg\")  \n",
    "image_0 = cv2.cvtColor(image_0, cv2.COLOR_BGR2RGB)\n",
    "image_0 = cv2.resize(image_0, (710,470))\n",
    "plt.title(\"Actual Image\",fontsize=20)\n",
    "plt.imshow(image_0)\n",
    "image_0 = cv2.resize(image_0,(500,500))\n",
    "image_0 = image_0.reshape(1,500,500,3)\n",
    "prediction_0 = TransferLearningModel.predict(image_0)\n",
    "pred_0 = prediction_0.reshape(500,500,3)\n",
    "pred_0 = cv2.resize(pred_0,(710,470))\n",
    "plt.subplot(5,5,1+1)\n",
    "plt.title(\"Segmented Image (prediction)\",fontsize=20)\n",
    "plt.imshow(pred_0, cmap='seismic')\n",
    "plt.subplot(5,5,1+2)\n",
    "img_g0 = cv2.imread(path+\"valid/valid_mask/bob_0.png\")  \n",
    "img_g0 = cv2.cvtColor(img_g0, cv2.COLOR_BGR2GRAY)\n",
    "img2 = cv2.resize(img_g0,(710,470), 3)\n",
    "plt.title(\"Mask\",fontsize=20)\n",
    "plt.imshow(img2, cmap='gray')"
   ]
  },
  {
   "cell_type": "code",
   "execution_count": null,
   "id": "08ffc15d-ab65-47a6-b443-f6b0b85cf624",
   "metadata": {},
   "outputs": [],
   "source": []
  },
  {
   "cell_type": "code",
   "execution_count": null,
   "id": "a914b0dd-d0b3-4bde-a90b-affd3a10a1cc",
   "metadata": {},
   "outputs": [],
   "source": [
    "#print(os.getcwd())"
   ]
  },
  {
   "cell_type": "code",
   "execution_count": null,
   "id": "0f51c364-9c95-4049-b224-01b93db8e70c",
   "metadata": {},
   "outputs": [],
   "source": [
    "cv2.imwrite(result_path+'pred_6.jpg', pred_0)"
   ]
  },
  {
   "cell_type": "code",
   "execution_count": null,
   "id": "01176cab-6009-4ff0-a1a9-501c240e2e74",
   "metadata": {},
   "outputs": [],
   "source": [
    "res = TransferLearningModel.evaluate(X_test, y_test)"
   ]
  },
  {
   "cell_type": "code",
   "execution_count": null,
   "id": "2079741b-b5e7-45d2-950c-3997cf1f9e5a",
   "metadata": {},
   "outputs": [],
   "source": [
    "#img2"
   ]
  },
  {
   "cell_type": "code",
   "execution_count": null,
   "id": "be8eb517-bbe7-4f49-a244-a22dd0fbec91",
   "metadata": {},
   "outputs": [],
   "source": [
    "# img = cv2.imread(path+'test/test_img/cod_1000.jpg')\n",
    "# img = cv2.resize(img,(500,500), 1)\n",
    "# img = img.reshape(1,500,500,3)\n",
    "# prediction2 = TransferLearningModel.predict(img)"
   ]
  },
  {
   "cell_type": "code",
   "execution_count": null,
   "id": "034273dd-57fd-42b2-8994-981500a4371e",
   "metadata": {},
   "outputs": [],
   "source": [
    "# pred2 = prediction2.reshape(500,500, 3)\n",
    "# plt.imshow(pred2)\n"
   ]
  },
  {
   "cell_type": "code",
   "execution_count": null,
   "id": "089c4279-5238-4145-98d8-e6d05688fdf8",
   "metadata": {},
   "outputs": [],
   "source": [
    "# mask = cv2.imread(path+'test/test_mask/cod_1000.png')\n",
    "# mask = cv2.cvtColor(mask, cv2.COLOR_BGR2GRAY)\n",
    "# mask = cv2.resize(mask,(500,500), 1)\n",
    "# plt.imshow(mask, cmap='gray', vmin=0, vmax=255)"
   ]
  },
  {
   "cell_type": "code",
   "execution_count": null,
   "id": "4d077db7-51c6-4e70-ae38-6e91d630c497",
   "metadata": {},
   "outputs": [],
   "source": [
    "# prediction2= prediction2.reshape\n",
    "# prediction2 = img_to_array((prediction2), dtype=np.uint8)\n",
    "\n",
    "# ix = load_img(prediction2, color_mode = 'grayscale')\n",
    "# has_mask = y_[ix].max() > 0 \n",
    "# fig, (ax1, ax2) = plt.subplots(1, 2, figsize = (20, 15))\n",
    "# ax1.imshow(X_[ix, ..., 0], cmap = 'seismic',interpolation = 'bilinear')\n",
    "# if has_mask: # if water\n",
    "#     # draw a boundary(contour) in the original image separating water and not-water areas\n",
    "#         ax1.contour(y_[ix].squeeze(), colors = 'k', linewidths = 5, levels = [0.5])\n",
    "# ax1.set_title('Seismic')\n",
    "        \n",
    "# ax2.imshow(y_[ix].squeeze(), cmap = 'gray', interpolation = 'bilinear')\n",
    "# ax2.set_title('Salt')"
   ]
  },
  {
   "cell_type": "code",
   "execution_count": null,
   "id": "3a35641e-929c-49f4-8c69-f7abce2d00b4",
   "metadata": {},
   "outputs": [],
   "source": [
    "# prediction2.shape\n"
   ]
  },
  {
   "cell_type": "code",
   "execution_count": null,
   "id": "1b439aee-0f2a-4ef8-9254-cee94a3daf41",
   "metadata": {},
   "outputs": [],
   "source": [
    "# TransferLearningModel.evaluate('images/test/test_img', 'images/test/test_mask')"
   ]
  },
  {
   "cell_type": "code",
   "execution_count": null,
   "id": "6c2236d5-8766-43b9-9e5b-9587053459f6",
   "metadata": {},
   "outputs": [],
   "source": []
  },
  {
   "cell_type": "code",
   "execution_count": null,
   "id": "c8dae137-b96c-477d-b76d-1e1aec449c67",
   "metadata": {},
   "outputs": [],
   "source": []
  },
  {
   "cell_type": "code",
   "execution_count": null,
   "id": "3ec69408-64bb-4891-8226-a3b84bc34816",
   "metadata": {},
   "outputs": [],
   "source": []
  }
 ],
 "metadata": {
  "kernelspec": {
   "display_name": "Python 3 (ipykernel)",
   "language": "python",
   "name": "python3"
  },
  "language_info": {
   "codemirror_mode": {
    "name": "ipython",
    "version": 3
   },
   "file_extension": ".py",
   "mimetype": "text/x-python",
   "name": "python",
   "nbconvert_exporter": "python",
   "pygments_lexer": "ipython3",
   "version": "3.7.10"
  }
 },
 "nbformat": 4,
 "nbformat_minor": 5
}
